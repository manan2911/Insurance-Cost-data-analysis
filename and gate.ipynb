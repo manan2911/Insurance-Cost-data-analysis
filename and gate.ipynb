{
  "nbformat": 4,
  "nbformat_minor": 0,
  "metadata": {
    "colab": {
      "name": "Untitled1.ipynb",
      "provenance": [],
      "authorship_tag": "ABX9TyNJt+feBEFRtmE98EKjMKDB",
      "include_colab_link": true
    },
    "kernelspec": {
      "display_name": "Python 3",
      "name": "python3"
    },
    "language_info": {
      "name": "python"
    }
  },
  "cells": [
    {
      "cell_type": "markdown",
      "metadata": {
        "id": "view-in-github",
        "colab_type": "text"
      },
      "source": [
        "<a href=\"https://colab.research.google.com/github/manan2911/Insurance-Cost-data-analysis/blob/main/and%20gate.ipynb\" target=\"_parent\"><img src=\"https://colab.research.google.com/assets/colab-badge.svg\" alt=\"Open In Colab\"/></a>"
      ]
    },
    {
      "cell_type": "code",
      "metadata": {
        "colab": {
          "base_uri": "https://localhost:8080/",
          "height": 229
        },
        "id": "sT4YmJxe8OBJ",
        "outputId": "fb192e27-e1f4-43d0-b3ff-da67876a6b1a"
      },
      "source": [
        "import tensorflow as tf\n",
        "T, F = 1.,-1.\n",
        "bias =1.\n",
        "train_in = [\n",
        "    [T,T,bias],\n",
        "    [T,F,bias],\n",
        "    [F,T,bias],\n",
        "    [F,F,bias]\n",
        "]\n",
        "train_out = [\n",
        "    [T],\n",
        "    [F],\n",
        "    [F],\n",
        "    [F]\n",
        "]\n",
        "w =  tf.Variable(tf.random.normal([3,1]))\n",
        "\n",
        "def step(x) :\n",
        "    is_greater = tf.greater(x,0)\n",
        "    as_float =tf.compat.v1.to_float (is_greater)\n",
        "    doubled = tf.multiply(as_float,2)\n",
        "    return tf.subtract(doubled,1)\n",
        "\n",
        "output = step(tf.matmul(train_in,w))\n",
        "error =tf.subtract(train_out,output)\n",
        "mse = tf.reduce_mean(tf.square(error))\n",
        "\n",
        "delta = tf.matmul(train_in,error,transpose_a= True)\n",
        "train = tf.compat.v1.assign(w,tf.add(w,delta))\n",
        "sess =tf.compat.v1.Session()\n",
        "sess.run(tf.compat.v1.initialize_all_variables())\n",
        "\n",
        "err,target = 1,0\n",
        "epoch,max_epoch = 0,10\n",
        "while err>target and epoch<max_epoch :\n",
        "    epoch +=1\n",
        "    err,_ = sess.run([mse,train])\n",
        "    print('epoch ',epoch,'mse',err)"
      ],
      "execution_count": 13,
      "outputs": [
        {
          "output_type": "error",
          "ename": "AttributeError",
          "evalue": "ignored",
          "traceback": [
            "\u001b[0;31m---------------------------------------------------------------------------\u001b[0m",
            "\u001b[0;31mAttributeError\u001b[0m                            Traceback (most recent call last)",
            "\u001b[0;32m<ipython-input-13-52fd85651580>\u001b[0m in \u001b[0;36m<module>\u001b[0;34m()\u001b[0m\n\u001b[1;32m     29\u001b[0m \u001b[0mtrain\u001b[0m \u001b[0;34m=\u001b[0m \u001b[0mtf\u001b[0m\u001b[0;34m.\u001b[0m\u001b[0mcompat\u001b[0m\u001b[0;34m.\u001b[0m\u001b[0mv1\u001b[0m\u001b[0;34m.\u001b[0m\u001b[0massign\u001b[0m\u001b[0;34m(\u001b[0m\u001b[0mw\u001b[0m\u001b[0;34m,\u001b[0m\u001b[0mtf\u001b[0m\u001b[0;34m.\u001b[0m\u001b[0madd\u001b[0m\u001b[0;34m(\u001b[0m\u001b[0mw\u001b[0m\u001b[0;34m,\u001b[0m\u001b[0mdelta\u001b[0m\u001b[0;34m)\u001b[0m\u001b[0;34m)\u001b[0m\u001b[0;34m\u001b[0m\u001b[0;34m\u001b[0m\u001b[0m\n\u001b[1;32m     30\u001b[0m \u001b[0msess\u001b[0m \u001b[0;34m=\u001b[0m\u001b[0mtf\u001b[0m\u001b[0;34m.\u001b[0m\u001b[0mcompat\u001b[0m\u001b[0;34m.\u001b[0m\u001b[0mv1\u001b[0m\u001b[0;34m.\u001b[0m\u001b[0mSession\u001b[0m\u001b[0;34m(\u001b[0m\u001b[0;34m)\u001b[0m\u001b[0;34m\u001b[0m\u001b[0;34m\u001b[0m\u001b[0m\n\u001b[0;32m---> 31\u001b[0;31m \u001b[0msess\u001b[0m\u001b[0;34m.\u001b[0m\u001b[0mrun\u001b[0m\u001b[0;34m(\u001b[0m\u001b[0mtf\u001b[0m\u001b[0;34m.\u001b[0m\u001b[0minit\u001b[0m\u001b[0;34m(\u001b[0m\u001b[0;34m)\u001b[0m\u001b[0;34m)\u001b[0m\u001b[0;34m\u001b[0m\u001b[0;34m\u001b[0m\u001b[0m\n\u001b[0m\u001b[1;32m     32\u001b[0m \u001b[0;34m\u001b[0m\u001b[0m\n\u001b[1;32m     33\u001b[0m \u001b[0merr\u001b[0m\u001b[0;34m,\u001b[0m\u001b[0mtarget\u001b[0m \u001b[0;34m=\u001b[0m \u001b[0;36m1\u001b[0m\u001b[0;34m,\u001b[0m\u001b[0;36m0\u001b[0m\u001b[0;34m\u001b[0m\u001b[0;34m\u001b[0m\u001b[0m\n",
            "\u001b[0;31mAttributeError\u001b[0m: module 'tensorflow' has no attribute 'init'"
          ]
        }
      ]
    }
  ]
}