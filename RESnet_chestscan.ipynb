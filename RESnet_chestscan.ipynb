{
  "nbformat": 4,
  "nbformat_minor": 0,
  "metadata": {
    "colab": {
      "name": "Untitled3.ipynb",
      "provenance": [],
      "toc_visible": true,
      "mount_file_id": "1-nfqBXGY-pB0VGSf86Is899ws9Oe9cmA",
      "authorship_tag": "ABX9TyPzibdLfeXPHBI1ePjrxZFI",
      "include_colab_link": true
    },
    "kernelspec": {
      "name": "python3",
      "display_name": "Python 3"
    },
    "language_info": {
      "name": "python"
    }
  },
  "cells": [
    {
      "cell_type": "markdown",
      "metadata": {
        "id": "view-in-github",
        "colab_type": "text"
      },
      "source": [
        "<a href=\"https://colab.research.google.com/github/manan2911/Insurance-Cost-data-analysis/blob/main/RESnet_chestscan.ipynb\" target=\"_parent\"><img src=\"https://colab.research.google.com/assets/colab-badge.svg\" alt=\"Open In Colab\"/></a>"
      ]
    },
    {
      "cell_type": "code",
      "metadata": {
        "id": "HMtOn7o3d7Xo"
      },
      "source": [
        "import numpy as np\n",
        "import pandas as pd\n",
        "import tensorflow as tf\n",
        "from tensorflow import keras\n",
        "from keras.preprocessing.image import ImageDataGenerator,img_to_array,load_img\n",
        "import matplotlib.pyplot as plt\n",
        "import seaborn as sns\n",
        "import glob\n",
        "import cv2\n",
        "from keras import Sequential\n",
        "from keras.layers import Flatten,Dense,BatchNormalization,Dropout,LeakyReLU,GlobalAveragePooling2D\n",
        "from keras.optimizers import Adam,RMSprop\n",
        "from keras.losses import BinaryCrossentropy\n",
        "from tensorflow.python.keras.applications.resnet import ResNet50\n",
        "from keras.callbacks import EarlyStopping"
      ],
      "execution_count": 3,
      "outputs": []
    },
    {
      "cell_type": "code",
      "metadata": {
        "id": "87J__MPJfmK_"
      },
      "source": [
        "train_path = \"/content/drive/MyDrive/chest_xray/train\"\n",
        "val_path = '/content/drive/MyDrive/chest_xray/val'\n",
        "test_path = '/content/drive/MyDrive/chest_xray/test'\n",
        "train_val_generator = ImageDataGenerator(rescale=1./255,horizontal_flip=True,zoom_range=0.3)\n",
        "test_generator = ImageDataGenerator(rescale=1./255)"
      ],
      "execution_count": 4,
      "outputs": []
    },
    {
      "cell_type": "code",
      "metadata": {
        "colab": {
          "base_uri": "https://localhost:8080/"
        },
        "id": "GkPRPWxSijct",
        "outputId": "5c6bc210-e43d-4a81-cab6-21aa3f9b3b49"
      },
      "source": [
        "train = train_val_generator.flow_from_directory(train_path,\n",
        "                                               batch_size=128,\n",
        "                                               target_size=(220,220),\n",
        "                                               color_mode=\"rgb\",\n",
        "                                               class_mode=\"binary\",\n",
        "                                               shuffle=True,\n",
        "                                               seed=42,\n",
        "                                               subset=\"training\")\n",
        "\n",
        "val = train_val_generator.flow_from_directory(val_path,\n",
        "                                               batch_size=4,\n",
        "                                               target_size=(220,220),\n",
        "                                               color_mode=\"rgb\",\n",
        "                                               class_mode=\"binary\",\n",
        "                                               shuffle=True,\n",
        "                                               seed=42)\n",
        "test = test_generator.flow_from_directory(test_path,\n",
        "                                          batch_size=32,\n",
        "                                          target_size=(220,220),\n",
        "                                          color_mode=\"rgb\",\n",
        "                                          class_mode=\"binary\")"
      ],
      "execution_count": 5,
      "outputs": [
        {
          "output_type": "stream",
          "text": [
            "Found 5233 images belonging to 2 classes.\n",
            "Found 16 images belonging to 2 classes.\n",
            "Found 624 images belonging to 2 classes.\n"
          ],
          "name": "stdout"
        }
      ]
    },
    {
      "cell_type": "code",
      "metadata": {
        "id": "NMBFV78zjDIK"
      },
      "source": [
        "resnet50 = ResNet50(weights = \"imagenet\", input_shape = (220,220,3), include_top = False)"
      ],
      "execution_count": 6,
      "outputs": []
    },
    {
      "cell_type": "code",
      "metadata": {
        "id": "FBgEtKJRjPYa"
      },
      "source": [
        "for layer in resnet50.layers:\n",
        "    layer.trainable = False\n",
        "model = Sequential()\n",
        "\n",
        "model.add(resnet50)\n",
        "\n",
        "for layer in resnet50.layers:\n",
        "    layer.trainable = False\n",
        "    \n",
        "model.add(Flatten())\n",
        "\n",
        "model.add(Dense(units = 128, activation = \"relu\"))\n",
        "model.add(Dropout(0.5))\n",
        "\n",
        "model.add(Dense(units = 1, activation = \"sigmoid\"))"
      ],
      "execution_count": 7,
      "outputs": []
    },
    {
      "cell_type": "code",
      "metadata": {
        "id": "FEtHK1N-jcrG"
      },
      "source": [
        "model.compile(optimizer = \"adam\", loss = \"binary_crossentropy\", metrics = [\"accuracy\"])\n"
      ],
      "execution_count": 8,
      "outputs": []
    },
    {
      "cell_type": "code",
      "metadata": {
        "colab": {
          "base_uri": "https://localhost:8080/"
        },
        "id": "G_2ArqrLjr_G",
        "outputId": "d3e9cd3b-62b3-45aa-f7fc-c040377c1331"
      },
      "source": [
        "hist = model.fit(train,validation_data=val,epochs=1)"
      ],
      "execution_count": 9,
      "outputs": [
        {
          "output_type": "stream",
          "text": [
            "41/41 [==============================] - 2712s 67s/step - loss: 4.7363 - accuracy: 0.6394 - val_loss: 0.6933 - val_accuracy: 0.5000\n"
          ],
          "name": "stdout"
        }
      ]
    },
    {
      "cell_type": "code",
      "metadata": {
        "id": "ja7haIrvxLIg",
        "outputId": "33523145-e993-4e3c-9126-44798982fca4",
        "colab": {
          "base_uri": "https://localhost:8080/",
          "height": 966
        }
      },
      "source": [
        "plt.figure(figsize=(8,8))\n",
        "plt.plot(hist.history['loss'], color='b', label=\"Training loss\")\n",
        "plt.plot(hist.history['val_loss'], color='r', label=\"Validation loss\")\n",
        "plt.legend()\n",
        "plt.show()\n",
        "\n",
        "plt.figure()\n",
        "\n",
        "plt.figure(figsize=(8,8))\n",
        "plt.plot(hist.history['accuracy'], color='b', label=\"Training accuracy\")\n",
        "plt.plot(hist.history['val_accuracy'], color='r',label=\"Validation accuracy\")\n",
        "plt.legend(loc = \"lower right\")\n",
        "plt.show()"
      ],
      "execution_count": 11,
      "outputs": [
        {
          "output_type": "display_data",
          "data": {
            "image/png": "[encoded data removed]",
            "text/plain": [
              "<Figure size 576x576 with 1 Axes>"
            ]
          },
          "metadata": {
            "tags": [],
            "needs_background": "light"
          }
        },
        {
          "output_type": "display_data",
          "data": {
            "text/plain": [
              "<Figure size 432x288 with 0 Axes>"
            ]
          },
          "metadata": {
            "tags": []
          }
        },
        {
          "output_type": "display_data",
          "data": {
            "image/png": "[encoded data removed]",
            "text/plain": [
              "<Figure size 576x576 with 1 Axes>"
            ]
          },
          "metadata": {
            "tags": [],
            "needs_background": "light"
          }
        }
      ]
    },
    {
      "cell_type": "code",
      "metadata": {
        "id": "RD5-ZAw2xREm",
        "outputId": "498478d0-2e08-41d0-cc1c-1c14fea7f517",
        "colab": {
          "base_uri": "https://localhost:8080/"
        }
      },
      "source": [
        "test_results = model.evaluate(test)"
      ],
      "execution_count": 12,
      "outputs": [
        {
          "output_type": "stream",
          "text": [
            "20/20 [==============================] - 312s 16s/step - loss: 0.6895 - accuracy: 0.6250\n"
          ],
          "name": "stdout"
        }
      ]
    }
  ]
}